{
 "cells": [
  {
   "cell_type": "markdown",
   "source": [
    "# CML API Example Notebook\n",
    "\n",
    "This notebook demonstrates the core functionality of the CML API. It uses the CML API Python client to make requests to the API service and operate on the responses.\n",
    "\n",
    "Running this notebook will create and delete projects and jobs. It will launch job runs, applications, and model deployments. If the notebook terminates before completing all the cells, some resources may linger and need to be manually terminated/removed. Rerunning cells that create resources may lead to additional resources being created."
   ],
   "metadata": {}
  },
  {
   "cell_type": "code",
   "execution_count": null,
   "source": [
    "import os\n",
    "cluster = os.getenv(\"CDSW_DOMAIN\")"
   ],
   "outputs": [],
   "metadata": {
    "tags": []
   }
  },
  {
   "cell_type": "code",
   "execution_count": null,
   "source": [
    "# If you are on a TLS enabled cluster (your cluster url starts with ‘https’),\n",
    "# please use the following command instead.\n",
    "# !pip3 install https://{cluster}/api/v2/python.tar.gz\n",
    "!pip3 install http://{cluster}/api/v2/python.tar.gz"
   ],
   "outputs": [],
   "metadata": {}
  },
  {
   "cell_type": "code",
   "execution_count": null,
   "source": [
    "from cmlapi.utils import Cursor\n",
    "import cmlapi\n",
    "import string\n",
    "import random\n",
    "import json\n",
    "\n",
    "try:\n",
    "    client = cmlapi.default_client()\n",
    "except ValueError:\n",
    "    print(\"Could not create a client. If this code is not being run in a CML session, please include the keyword arguments \\\"url\\\" and \\\"cml_api_key\\\".\")"
   ],
   "outputs": [],
   "metadata": {
    "tags": []
   }
  },
  {
   "cell_type": "code",
   "execution_count": null,
   "source": [
    "session_id = \"\".join([random.choice(string.ascii_lowercase) for _ in range(6)])\n",
    "session_id"
   ],
   "outputs": [],
   "metadata": {}
  },
  {
   "cell_type": "markdown",
   "source": [
    "## Note\n",
    "- In addition to using python client, **_curl_** is also supported.  \n",
    "`> curl -X GET -H \"Authorization: Bearer ${APIKEY}\" \"https://${CML_DOMAIN}/api/v2/projects\" | python -m json.tool`\n",
    "\n",
    "- The returned objects are _not_ Python dictionaries, so you can't use `object[field]` to reference the fields of the response. Instead, you can use `object.field` to reference the properties of response objects.\n",
    "\n",
    "- All the list_XXX endpoints share the same arguments, particularly search_filter and sort. Examples are provided in [**list_projects**](#list_projects).\n",
    "\n",
    "- In the following examples, we will use legacy engines. However, the usage of legacy engines is similar to the usage of runtimes."
   ],
   "metadata": {}
  },
  {
   "cell_type": "markdown",
   "source": [
    "## Create Project\n",
    "- CreateProjectRequest\n",
    "\n",
    "Argument | Type | Description | Notes\n",
    "------------ | ------------- | ------------- | -------------\n",
    "**name** | **str** | The name of the project to create. | \n",
    "**description** | **str** | The description of the project. | \\[optional\\] \n",
    "**visibility** | **str** | The visibility of the project (one of &quot;public&quot;, &quot;organization&quot;, &quot;private&quot;). Default is private. | \\[optional\\] \n",
    "**parent_project** | **str** | Optional parent project to fork. | \\[optional\\] \n",
    "**git_url** | **str** | Optional git URL to checkout for this project. | \\[optional\\] \n",
    "**template** | **str** | Optional template to use (Python, R, PySpark, Scala, Churn Predictor, local, git, blank) Note: local will create the project but nothing else, files must be uploaded separately. |\n",
    "**organization_permission** | **str** | If this is an organization-wide project, the visibility to others in the organization. | \\[optional\\] \n",
    "**default_project_engine_type** | **str** | Whether this project uses legacy engines or runtimes. Valid values are &quot;ml_runtime&quot;, &quot;legacy_engine&quot;, or leave blank to default to the site-wide default. | \\[optional\\]\n",
    "**environment** | **dict(str, str)** | The default set of environment variables to run | \\[optional\\] \n",
    "**shared_memory_limit** | **int** | Additional shared memory limit that engines in this project should have, in MB (default 64). | \\[optional\\] "
   ],
   "metadata": {}
  },
  {
   "cell_type": "code",
   "execution_count": null,
   "source": [
    "body = cmlapi.CreateProjectRequest(\n",
    "    name = \"demo_\"+session_id,\n",
    "    description = \"A demo project created using the CML public API\",\n",
    "    default_project_engine_type = \"legacy_engine\",\n",
    "    template = \"Python\")\n",
    "# Create the project\n",
    "project = client.create_project(body)\n",
    "project_id = project.id"
   ],
   "outputs": [],
   "metadata": {}
  },
  {
   "cell_type": "code",
   "execution_count": null,
   "source": [
    "project"
   ],
   "outputs": [],
   "metadata": {}
  },
  {
   "cell_type": "markdown",
   "source": [
    "<a id='list_projects'></a>\n",
    "## List/Get Project\n",
    "The list_projects API call takes the following parameters:\n",
    "\n",
    "Argument | Type | Description  | Notes\n",
    "------------- | ------------- | ------------- | -------------\n",
    " **search_filter** | **str**| Search filter is an optional HTTP parameter to filter results by. Supported search filter keys are: \\[creator.email creator.name creator.username description name owner.email owner.name owner.username\\]. For example:   search_filter={\"name\":\"foo\",\"creator.name\":\"bar\"},. | [optional] \n",
    " **sort** | **str**| Sort is an optional HTTP parameter to sort results by. Supported sort keys are: \\[created_at creator.email creator.name creator.username description name owner.email owner.name owner.username updated_at\\]. where \\&quot;+\\&quot; means sort by ascending order, and \\&quot;-\\&quot; means sort by descending order. For example:   sort&#x3D;-updated_at,+name. | [optional] \n",
    " **page_size** | **int**| Page size is an optional argument for number of entries to return in one page. If not specified, the server will determine a page size. If specified, must be respecified for further requests when using the provided next page token in the response. | [optional] \n",
    " **page_token** | **str**| Page token is an optional argument for specifying which page of results to get. If not specified, the first page will be returned, including a token for the next page. Will be empty if there is no next page. | [optional] \n",
    " **include_public_projects** | **bool**| Default is false. If include_public_projects is set to true, then it will return all projects user has access to, including public projects. | [optional] "
   ],
   "metadata": {}
  },
  {
   "cell_type": "code",
   "execution_count": null,
   "source": [
    "# List projects using the default sort and default page size (10)\n",
    "client.list_projects()"
   ],
   "outputs": [],
   "metadata": {}
  },
  {
   "cell_type": "code",
   "execution_count": null,
   "source": [
    "# You can add search filters for project fields to filter for projects that have the filter present in the specified field. The following will filter for projects whose names contain the word \"demo\".\n",
    "search_filters = {\n",
    "    \"name\": \"demo\",\n",
    "}\n",
    "\n",
    "# List 5 projects that the user has direct read access to (not including general public projects or organization-level projects that the user does not have a specific permission for), sorted ascendingly by when they were updated.\n",
    "projects_list = client.list_projects(\n",
    "    page_size = 5,\n",
    "    search_filter = json.dumps(search_filters),\n",
    "    sort=\"updated_at\"\n",
    ")\n",
    "projects_list\n",
    "# If there are more than 5 such projects, fetch the next 5 using the page_token. The same keyword parameters MUST be included.\n",
    "if projects_list.next_page_token != \"\":\n",
    "    next_page_projects_list = client.list_projects(\n",
    "    page_size = 5,\n",
    "    search_filter = json.dumps(search_filters),\n",
    "    sort=\"updated_at\",\n",
    "    page_token = projects_list.next_page_token\n",
    ")\n",
    "# Fetch the first 5 projects sorted by updated_at in descending order.\n",
    "client.list_projects(\n",
    "    page_size = 5,\n",
    "    search_filter = json.dumps(search_filters),\n",
    "    sort=\"-updated_at\"\n",
    ")"
   ],
   "outputs": [],
   "metadata": {
    "scrolled": true
   }
  },
  {
   "cell_type": "code",
   "execution_count": null,
   "source": [
    "# Get a specific project given its ID.\n",
    "client.get_project(project_id = project_id)"
   ],
   "outputs": [],
   "metadata": {
    "scrolled": true
   }
  },
  {
   "cell_type": "markdown",
   "source": [
    "## Update project\n",
    "\n",
    "The following project fields can be updated.\n",
    " - name\n",
    " - description\n",
    " - project_visibility\n",
    " - default_project_engine_type\n",
    " - shared_memory_limit\n",
    " - environment\n",
    "\n",
    "The update can be provided as a Project object with the updated fields set to their new values and all other fields set to None, or as a dictionary mapping each field to its new value.\n"
   ],
   "metadata": {}
  },
  {
   "cell_type": "code",
   "execution_count": null,
   "source": [
    "update_body = cmlapi.Project(\n",
    "    name = \"updated_\" + project.name,\n",
    "    visibility = \"public\"\n",
    ")\n",
    "client.update_project(update_body, project_id)"
   ],
   "outputs": [],
   "metadata": {}
  },
  {
   "cell_type": "markdown",
   "source": [
    "## List Runtimes\n",
    "When using runtimes, you need to specify which runtime to use. You can list out runtimes to get their identifiers, and include one in your request to use it. You can ignore the field if you are using legacy engines.\n",
    "\n",
    "Like projects, runtimes can be filtered. You can filter runtimes on the following fields:\n",
    "- image_identifier\n",
    "- editor\n",
    "- kernel\n",
    "- edition\n",
    "- description\n",
    "- full_version\n"
   ],
   "metadata": {}
  },
  {
   "cell_type": "code",
   "execution_count": null,
   "source": [
    "client.list_runtimes()\n",
    "\n",
    "# Uncomment the following lines to filter on Python runtimes with GPUs\n",
    "# client.list_runtimes(search_filter=json.dumps({\n",
    "#     \"kernel\": \"Python\",\n",
    "#     \"edition\": \"Nvidia GPU\"\n",
    "# }))"
   ],
   "outputs": [],
   "metadata": {}
  },
  {
   "cell_type": "markdown",
   "source": [
    "## Cursor helper\n",
    "This helper works for any endpoint with _list_ (list_projects, list_jobs, list_runtimes, ...)\n",
    "\n",
    "Cursor returns an iterable objects."
   ],
   "metadata": {}
  },
  {
   "cell_type": "code",
   "execution_count": null,
   "source": [
    "# cursor also supports search_filter\n",
    "# cursor = Cursor(client.list_runtimes, \n",
    "#                 search_filter = json.dumps({\"image_identifier\":\"jupyter\"}))\n",
    "cursor = Cursor(client.list_runtimes)\n",
    "runtimes = cursor.items()\n",
    "for rt in runtimes:\n",
    "    print(rt.image_identifier)"
   ],
   "outputs": [],
   "metadata": {}
  },
  {
   "cell_type": "markdown",
   "source": [
    "## Create Job\n",
    "#### CreateJobRequest\n",
    "\n",
    "Argument | Type | Description | Notes\n",
    "------------ | ------------- | ------------- | -------------\n",
    "**project_id** | **str** | ID of the project containing the job. |\n",
    "**name** | **str** | Name of the new job. | \n",
    "**script** | **str** | The script to run for the new job. | \n",
    "**cpu** | **float** | CPU cores to allocate to job runs for this job (default 1). | \\[optional\\] \n",
    "**memory** | **float** | Memory in GB to allocate to job runs for this job (default 1). | \\[optional\\] \n",
    "**nvidia_gpu** | **int** | Number of Nvidia GPUs to allocate to this job (default 0). | \\[optional\\] \n",
    "**parent_job_id** | **str** | Optional dependent job if this new job is a dependency. Setting this to a parent job will make this job run when the parent job completes. Cannot be used alongside \\&quot;schedule\\&quot;. | \\[optional\\] \n",
    "**environment** | **dict(str, str)** | Default environment variables to include in job runs for this job. | \\[optional\\] \n",
    "**arguments** | **str** |  | \\[optional\\] \n",
    "**timeout** | **int** | Timeout in seconds of job runs for this job. | \\[optional\\] \n",
    "**schedule** | **str** | Schedule to run a job automatically. Cannot be used in a dependency job. Follows the cron format. For example, to execute the job every Monday at 1 PM UTC, the schedule would be \\&quot;0 13 * * 1\\&quot; without quotes. | \\[optional\\] \n",
    "**kernel** | **str** | Kernel to run the job runs on. Possible values are python3, python2, r, or scala. Should not be set if the project uses ML Runtimes. | \\[optional\\] \n",
    "**recipients** | **list\\[JobRecipient\\]** | An optional list of recipients to receive notifications for job events such as successful runs, failures, and manual stops. | \\[optional\\] \n",
    "**attachments** | **list\\[str\\]** | Files to attach (with path relative to /home/cdsw/) in notification emails. For example, to attach a file located at /home/cdsw/report/result.csv, include \\&quot;report/result.csv\\&quot; in the array for this field. | \\[optional\\] \n",
    "**runtime_identifier** | **str** | The runtime image identifier to use if this job is part of a ML Runtime project. Must be set if using ML Runtimes. | \\[optional\\] "
   ],
   "metadata": {}
  },
  {
   "cell_type": "code",
   "execution_count": null,
   "source": [
    "# Create a job. We will create dependent/children jobs of this job, so we call this one a \"grandparent job\". The parameter \"runtime_identifier\" is needed if this is running in a runtimes project.\n",
    "grandparent_job_body = cmlapi.CreateJobRequest(\n",
    "    project_id = project_id,\n",
    "    name = \"grandparentJob\",\n",
    "    script = \"analysis.py\",\n",
    "    kernel = \"python3\",\n",
    ")\n",
    "# Create this job within the project specified by the project_id parameter.\n",
    "grandparent_job = client.create_job(grandparent_job_body, project_id)"
   ],
   "outputs": [],
   "metadata": {}
  },
  {
   "cell_type": "markdown",
   "source": [
    "### Create dependent jobs\n",
    "When a parent job is started, its child/dependent jobs  will automatically start after it successfully completes. "
   ],
   "metadata": {}
  },
  {
   "cell_type": "code",
   "execution_count": null,
   "source": [
    "# Create a dependent job by specifying the parent job's ID in the parent_job_id field.\n",
    "parent_job_body = cmlapi.CreateJobRequest(\n",
    "    project_id = project_id,\n",
    "    name = \"parentJob\",\n",
    "    script = \"analysis.py\",\n",
    "    kernel = \"python3\",\n",
    "    parent_job_id = grandparent_job.id\n",
    ")\n",
    "parent_job = client.create_job(parent_job_body, project_id)"
   ],
   "outputs": [],
   "metadata": {}
  },
  {
   "cell_type": "code",
   "execution_count": null,
   "source": [
    "# Create a job that is dependent on the job from the previous cell. This leads to a dependency chain of grandparent_job -> parent_job -> child_job. If grantparent_job runs and succeeds, then parent_job will trigger, and if parent_job runs and succeeds, child_job will trigger. This one uses a template script that does not terminate, so we'll have the opportunity to try stopping it later.\n",
    "child_job_body = cmlapi.CreateJobRequest(\n",
    "    project_id = project_id,\n",
    "    name = \"childJob\",\n",
    "    script = \"entry.py\",\n",
    "    kernel = \"python3\",\n",
    "    parent_job_id = parent_job.id\n",
    ")\n",
    "child_job = client.create_job(child_job_body, project_id)"
   ],
   "outputs": [],
   "metadata": {}
  },
  {
   "cell_type": "markdown",
   "source": [
    "## List/Get Job"
   ],
   "metadata": {}
  },
  {
   "cell_type": "code",
   "execution_count": null,
   "source": [
    "# This will list jobs in the project. By default it will list the first 10, and provide a next_page_token to list more if there are any. This behavior can be controlled by adding the keyword argument \"page_size\".\n",
    "joblists = client.list_jobs(project_id = project_id)\n",
    "print(f'Fetched {len(joblists.jobs)} jobs from the project')"
   ],
   "outputs": [],
   "metadata": {}
  },
  {
   "cell_type": "code",
   "execution_count": null,
   "source": [
    "# Get a specific job given the project and job ID.\n",
    "client.get_job(project_id = project_id, job_id = parent_job.id)"
   ],
   "outputs": [],
   "metadata": {
    "scrolled": true
   }
  },
  {
   "cell_type": "code",
   "execution_count": null,
   "source": [
    "# Get all parent jobs \n",
    "curJob = child_job.id\n",
    "while len(curJob)>0:\n",
    "    job = client.get_job(project_id = project_id, job_id = curJob)\n",
    "    print('Job ID:   {}\\n  name:   {}\\n  script: {}'.format(job.id, job.name, job.script))\n",
    "    curJob = job.parent_id\n"
   ],
   "outputs": [],
   "metadata": {}
  },
  {
   "cell_type": "markdown",
   "source": [
    "## Update Job\n",
    "\n",
    "When updating a job, you can modify the following fields.\n",
    "\n",
    "- schedule\n",
    "- parent_id\n",
    "- name\n",
    "- timeout\n",
    "- cpu\n",
    "- memory\n",
    "- nvidia_gpu\n",
    "- environment\n",
    "\n",
    "As with projects, you can submit a modification either with a `cmlapi.Job` object where all fields to be updated are set to their updated value, and all other fields are set to None (their default value when creating a new `cmlapi.Job`). Alternatively you can use a dictionary mapping only the fields that are being updated to their new values."
   ],
   "metadata": {}
  },
  {
   "cell_type": "code",
   "execution_count": null,
   "source": [
    "update_body = cmlapi.Job(name = \"updated_\"+ parent_job.name)\n",
    "client.update_job(update_body, project_id, parent_job.id)"
   ],
   "outputs": [],
   "metadata": {}
  },
  {
   "cell_type": "markdown",
   "source": [
    "## Create JobRun\n",
    "\n",
    "#### CreateJobRunRequest\n",
    "Name | Type | Description | Notes\n",
    "------------ | ------------- | ------------- | -------------\n",
    "**project_id** | **str** | ID of the project containing the job. | \n",
    "**job_id** | **str** | The job ID to create a new job run for. | \n",
    "**environment** | **dict(str, str)** | The environment variables to include in this run. | \\[optional\\] \n",
    "**arguments** | **str** | The custom arguments to the job run | \\[optional\\] "
   ],
   "metadata": {}
  },
  {
   "cell_type": "code",
   "execution_count": null,
   "source": [
    "# Create a job run for the specified job.\n",
    "# If the job has dependent jobs, the dependent jobs will run after the job succeeds.\n",
    "# In this case, the grandparent job will run first, then the parent job, and then the child job, provided each job run succeeds.\n",
    "jobrun_body = cmlapi.CreateJobRunRequest(project_id, grandparent_job.id)\n",
    "job_run = client.create_job_run(jobrun_body, project_id, grandparent_job.id)\n",
    "run_id = job_run.id"
   ],
   "outputs": [],
   "metadata": {}
  },
  {
   "cell_type": "code",
   "execution_count": null,
   "source": [
    "job_run"
   ],
   "outputs": [],
   "metadata": {}
  },
  {
   "cell_type": "markdown",
   "source": [
    "## List/Get JobRun\n",
    "\n"
   ],
   "metadata": {}
  },
  {
   "cell_type": "code",
   "execution_count": null,
   "source": [
    "# Get a job run given its ID, as well as the job ID and project ID containing the job run.\n",
    "client.get_job_run(project_id, grandparent_job.id, run_id)"
   ],
   "outputs": [],
   "metadata": {}
  },
  {
   "cell_type": "code",
   "execution_count": null,
   "source": [
    "# List all job runs in a job (pursuant to page_size, default 10).\n",
    "job_runs = client.list_job_runs(project_id, child_job.id)"
   ],
   "outputs": [],
   "metadata": {}
  },
  {
   "cell_type": "markdown",
   "source": [
    "## Stop JobRun"
   ],
   "metadata": {}
  },
  {
   "cell_type": "code",
   "execution_count": null,
   "source": [
    "# Stop a job run. This will stop whatever the job run is doing and terminate the engine.\n",
    "# We don't know which job run it's on (since grandparent, parent, and child are all running). So, we will try to stop all of them, and ignore errors that arise if they are already stopped.\n",
    "# Since each job can only have at most one active run, we only need to check the most recent job run for each job.\n",
    "for job in [grandparent_job, parent_job, child_job]:\n",
    "    job_runs = client.list_job_runs(project_id, job.id, sort=\"-created_at\", page_size=1)\n",
    "    if len(job_runs.job_runs) == 1:\n",
    "        job_run = job_runs.job_runs[0]\n",
    "        try:\n",
    "            client.stop_job_run(project_id, child_job.id, job_run.id)\n",
    "        except cmlapi.rest.ApiException:\n",
    "            pass"
   ],
   "outputs": [],
   "metadata": {
    "scrolled": true
   }
  },
  {
   "cell_type": "markdown",
   "source": [
    "## Create Application\n",
    "\n",
    "#### CreateApplicationRequest\n",
    "Argument | Type | Description | Notes\n",
    "------------ | ------------- | ------------- | -------------\n",
    "**project_id** | **str** | The project's identifier | \n",
    "**name** | **str** | Name of the new application. |  \n",
    "**subdomain** | **str** | The subdomain of the application. The application will be served at the URL http(s)://subdomain.<domain> | \n",
    "**description** | **str** | The description of the application. | [optional] \n",
    "**script** | **str** | The script to run for the new application. | \n",
    "**cpu** | **float** | CPU cores to allocate to application (default 1). | [optional] \n",
    "**memory** | **float** | Memory in GB to allocate to application (default 1). | [optional] \n",
    "**nvidia_gpu** | **int** | Number of Nvidia GPUs to allocate to this application (default 0). | [optional] \n",
    "**environment** | **dict(str, str)** | Default environment variables to include in application. | [optional] \n",
    "**kernel** | **str** | Kernel to run the job runs on. Possible values are python3, python2, r, or scala. | [optional] \n",
    "**bypass_authentication** | **bool** | Enable unauthenticated access to application | [optional] \n",
    "\n",
    "Creating application also starts application implicitly."
   ],
   "metadata": {}
  },
  {
   "cell_type": "code",
   "execution_count": null,
   "source": [
    "# This creates a simple application. If using runtimes, the runtime_identifier must be specified.\n",
    "application_request = cmlapi.CreateApplicationRequest(\n",
    "    name = \"demo_app_\"+session_id,\n",
    "    description = \"A sample application to demonstrate CML APIs\",\n",
    "    project_id = project_id,\n",
    "    subdomain = \"demo-\"+session_id,\n",
    "    kernel = \"python3\",\n",
    "    script = \"entry.py\",\n",
    ")\n",
    "app = client.create_application(\n",
    "    project_id = project_id,\n",
    "    body = application_request\n",
    ")"
   ],
   "outputs": [],
   "metadata": {}
  },
  {
   "cell_type": "markdown",
   "source": [
    "## List/Get Applications"
   ],
   "metadata": {}
  },
  {
   "cell_type": "markdown",
   "source": [
    "Applications can be listed using the same mechanisms (sort, search_filter, page_size, etc.) as the other resources we've seen so far. Applications can be filtered on the following properties:\n",
    "- creator.email\n",
    "- creator.name\n",
    "- creator.username\n",
    "- description\n",
    "- full_name\n",
    "- name\n",
    "- script\n",
    "- subdomain\n",
    "- status\n",
    "- kernel\n",
    "- bypass_authentication\n",
    "- runtime_identifier\n",
    "\n",
    "Applications can also be sorted on the following properties:\n",
    "- created_at\n",
    "- creator.email\n",
    "- creator.name\n",
    "- creator.username\n",
    "- description\n",
    "- name\n",
    "- kernel\n",
    "- script\n",
    "- updated_at\n",
    "- status\n",
    "- runtime_identifier\n"
   ],
   "metadata": {}
  },
  {
   "cell_type": "code",
   "execution_count": null,
   "source": [
    "# You can list applications similarly to other resources.\n",
    "client.list_applications(project_id = project_id)"
   ],
   "outputs": [],
   "metadata": {}
  },
  {
   "cell_type": "markdown",
   "source": [
    "## Update Application\n",
    "\n",
    "When updating an application, you can modify the following fields:\n",
    "- name\n",
    "- subdomain\n",
    "- description\n",
    "- script\n",
    "- bypass_authentication\n",
    "- kernel\n",
    "- cpu\n",
    "- memory\n",
    "- nvidia_gpu\n",
    "- environment\n",
    "\n",
    "Modifying these fields can be done similarly to how we updated projects and jobs earlier."
   ],
   "metadata": {}
  },
  {
   "cell_type": "code",
   "execution_count": null,
   "source": [
    "update_application_req = cmlapi.Application(\n",
    "    name = \"updated_\" + app.name,\n",
    "    subdomain = \"updated-\" + app.subdomain,\n",
    "    description = \"updated_\" + app.description,\n",
    "    environment = json.dumps({\"UPDATED_ENV\": \"UPDATED_ENV_VALUE\"}),\n",
    ")\n",
    "updated_application = client.update_application(\n",
    "    update_application_req,\n",
    "    project_id = project_id,\n",
    "    application_id = app.id\n",
    ")\n",
    "updated_application"
   ],
   "outputs": [],
   "metadata": {}
  },
  {
   "cell_type": "markdown",
   "source": [
    "## Model\n",
    "\n",
    "Deploying a model is a three-step process. First, create a model with some basic information. Second, build the model by specifying the file to use and function to run. Finally, deploy the model with some allocated resources.\n",
    "\n",
    "1. CreateModel\n",
    "\n",
    "#### CreateModelRequest\n",
    "\n",
    "Argument | Type | Description | Notes\n",
    "------------ | ------------- | ------------- | -------------\n",
    "**project_id** | **str** | ID of the project containing the model. |  \n",
    "**name** | **str** | Name of the model. |  \n",
    "**description** | **str** | Description of the model. | \\[optional\\] \n",
    "**disable_authentication** | **bool** | Whether to disable authentication for requests to deployments of this model. | \\[optional\\] \n",
    "\n",
    "2. CreateModelBuild\n",
    "\n",
    "#### CreateModelBuildRequest\n",
    "\n",
    "Argument | Type | Description | Notes\n",
    "------------ | ------------- | ------------- | -------------\n",
    "**project_id** | **str** | ID of the project containing the model build. |\n",
    "**model_id** | **str** | The ID of the model that will the build. | \n",
    "**comment** | **str** | A comment associated with the build. | \\[optional\\] \n",
    "**file_path** | **str** | The path to the file to build. | \n",
    "**function_name** | **str** | The function name to run when executing the build. |  \n",
    "**kernel** | **str** | The kernel the model build should use. | \n",
    "**runtime_identifier** | **str** | The runtime ID the model build should use. | \n",
    "\n",
    "\n",
    "3. CreateModelDeployment\n",
    "\n",
    "#### CreateModelDeploymentRequest\n",
    "\n",
    "Argument | Type | Description | Notes\n",
    "------------ | ------------- | ------------- | -------------\n",
    "**project_id** | **str** | ID of the project containing the model. | \n",
    "**model_id** | **str** | ID of the model to deploy. | \n",
    "**build_id** | **str** | ID of the model build to deploy. | \n",
    "**cpu** | **float** | Number of vCPU to allocate to the deployment. | \\[optional\\] \n",
    "**memory** | **float** | Amount of memory in GB to allocate to the deployment. | \\[optional\\] \n",
    "**nvidia_gpus** | **int** | Number of nvidia GPUs to allocate to the deployment. | \\[optional\\] \n",
    "**environment** | **dict(str, str)** | Environment variables to run the deployment with. | \\[optional\\] "
   ],
   "metadata": {}
  },
  {
   "cell_type": "code",
   "execution_count": null,
   "source": [
    "modelReq = cmlapi.CreateModelRequest(\n",
    "    name = \"demo-model-\" + session_id,\n",
    "    description = \"model created for demo\",\n",
    "    project_id = project_id,\n",
    ")\n",
    "model = client.create_model(modelReq, project_id)"
   ],
   "outputs": [],
   "metadata": {}
  },
  {
   "cell_type": "code",
   "execution_count": null,
   "source": [
    "model_build_request = cmlapi.CreateModelBuildRequest(\n",
    "    project_id = project_id,\n",
    "    model_id = model.id,\n",
    "    comment = \"test comment\",\n",
    "    file_path = \"pi.py\",\n",
    "    function_name = \"predict\",\n",
    "    kernel = \"python3\",\n",
    ")\n",
    "modelBuild = client.create_model_build(\n",
    "    model_build_request, project_id, model.id\n",
    ")"
   ],
   "outputs": [],
   "metadata": {}
  },
  {
   "cell_type": "code",
   "execution_count": null,
   "source": [
    "model_deployment = cmlapi.CreateModelDeploymentRequest(\n",
    "        project_id = project_id, \n",
    "        model_id = model.id, \n",
    "        build_id = modelBuild.id\n",
    "    )\n",
    "model_deployment_response = client.create_model_deployment(\n",
    "        model_deployment, \n",
    "        project_id = project_id, \n",
    "        model_id = model.id, \n",
    "        build_id = modelBuild.id\n",
    "    )"
   ],
   "outputs": [],
   "metadata": {}
  },
  {
   "cell_type": "markdown",
   "source": [
    "## Get/List models"
   ],
   "metadata": {}
  },
  {
   "cell_type": "code",
   "execution_count": null,
   "source": [
    "client.get_model(project_id = project_id, model_id = model.id)"
   ],
   "outputs": [],
   "metadata": {}
  },
  {
   "cell_type": "code",
   "execution_count": null,
   "source": [
    "client.list_models(project_id = project_id)"
   ],
   "outputs": [],
   "metadata": {}
  },
  {
   "cell_type": "markdown",
   "source": [
    "## Get/List model_builds"
   ],
   "metadata": {}
  },
  {
   "cell_type": "code",
   "execution_count": null,
   "source": [
    "client.get_model_build(\n",
    "    project_id = project_id,\n",
    "    model_id = model.id,\n",
    "    build_id = modelBuild.id\n",
    ")"
   ],
   "outputs": [],
   "metadata": {}
  },
  {
   "cell_type": "code",
   "execution_count": null,
   "source": [
    "client.list_model_builds(project_id = project_id, model_id = model.id)"
   ],
   "outputs": [],
   "metadata": {}
  },
  {
   "cell_type": "markdown",
   "source": [
    "## Get/List model_deployments\n"
   ],
   "metadata": {}
  },
  {
   "cell_type": "code",
   "execution_count": null,
   "source": [
    "client.get_model_deployment(project_id = project_id, model_id = model.id, build_id = modelBuild.id, deployment_id=model_deployment_response.id)"
   ],
   "outputs": [],
   "metadata": {}
  },
  {
   "cell_type": "code",
   "execution_count": null,
   "source": [
    "client.list_model_deployments(\n",
    "    project_id = project_id,\n",
    "    model_id = model.id,\n",
    "    build_id = modelBuild.id\n",
    ")"
   ],
   "outputs": [],
   "metadata": {}
  },
  {
   "cell_type": "markdown",
   "source": [
    "## Stop model deployment"
   ],
   "metadata": {}
  },
  {
   "cell_type": "code",
   "execution_count": null,
   "source": [
    "client.stop_model_deployment(\n",
    "    project_id = project_id,\n",
    "    model_id = model.id,\n",
    "    build_id = modelBuild.id,\n",
    "    deployment_id = model_deployment_response.id\n",
    ")"
   ],
   "outputs": [],
   "metadata": {}
  },
  {
   "cell_type": "markdown",
   "source": [
    "## Deleting resources"
   ],
   "metadata": {}
  },
  {
   "cell_type": "code",
   "execution_count": null,
   "source": [
    "# Deleting job does not delete its dependent jobs\n",
    "client.delete_job(project_id = project_id, job_id = parent_job.id)"
   ],
   "outputs": [],
   "metadata": {}
  },
  {
   "cell_type": "code",
   "execution_count": null,
   "source": [
    "client.delete_application(project_id = project_id, application_id = app.id)"
   ],
   "outputs": [],
   "metadata": {}
  },
  {
   "cell_type": "code",
   "execution_count": null,
   "source": [
    "# Uncomment the following lines to delete the project\n",
    "# client.delete_project(project_id)"
   ],
   "outputs": [],
   "metadata": {}
  },
  {
   "cell_type": "markdown",
   "source": [
    "**_If this documentation includes code, including but not limited to, code examples, Cloudera makes this available to you under the terms of the Apache License, Version 2.0, including any required notices. A copy of the Apache License Version 2.0 can be found in LICENSE.txt of this repository._**"
   ],
   "metadata": {}
  }
 ],
 "metadata": {
  "kernelspec": {
   "display_name": "Python 3.9.0 64-bit",
   "language": "python",
   "name": "python39064bit53fbb548e13049dda97facc40ab9ddcb"
  },
  "language_info": {
   "codemirror_mode": {
    "name": "ipython",
    "version": 3
   },
   "file_extension": ".py",
   "mimetype": "text/x-python",
   "name": "python",
   "nbconvert_exporter": "python",
   "pygments_lexer": "ipython3",
   "version": "3.9.0-final"
  }
 },
 "nbformat": 4,
 "nbformat_minor": 5
}
